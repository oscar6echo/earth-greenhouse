{
 "cells": [
  {
   "cell_type": "code",
   "execution_count": 1,
   "id": "96df8109-b2ee-48db-877c-9c911fdac382",
   "metadata": {
    "tags": []
   },
   "outputs": [],
   "source": [
    "%load_ext autoreload\n",
    "%autoreload 2"
   ]
  },
  {
   "cell_type": "code",
   "execution_count": 2,
   "id": "bd66e757-b71d-4bc0-bf57-b25a603b1e92",
   "metadata": {
    "tags": []
   },
   "outputs": [],
   "source": [
    "import simul_co2_absorption as m"
   ]
  },
  {
   "cell_type": "code",
   "execution_count": 3,
   "id": "9d2c43aa-47f6-48e6-a942-a15ce31701ad",
   "metadata": {
    "tags": []
   },
   "outputs": [
    {
     "name": "stdout",
     "output_type": "stream",
     "text": [
      "lammbda min              = 0.10 x 10^-6\n",
      "lammbda max              = 100  x 10^-6\n",
      "lammbda delta            = 0    x 10^-6\n",
      "\n",
      "alt min                  = 0\n",
      "alt max                  = 80,000\n",
      "alt delta                = 10\n"
     ]
    }
   ],
   "source": [
    "z_max = 80_000\n",
    "z_delta = 10\n",
    "lambda_min = 0.1e-6\n",
    "lambda_max = 100e-6\n",
    "lambda_delta = 0.01e-6\n",
    "\n",
    "\n",
    "c = m.Simul(\n",
    "    z_max=z_max,\n",
    "    z_delta=z_delta,\n",
    "    lambda_min=lambda_min,\n",
    "    lambda_max=lambda_max,\n",
    "    lambda_delta=lambda_delta,\n",
    ")\n"
   ]
  },
  {
   "cell_type": "code",
   "execution_count": 5,
   "id": "6aedc614-dbf1-4aa6-85c8-f20a334f3034",
   "metadata": {
    "tags": []
   },
   "outputs": [
    {
     "name": "stdout",
     "output_type": "stream",
     "text": [
      "Total earth surface flux in wavelength range: 389.11 W m⁻²\n"
     ]
    }
   ],
   "source": [
    "c.calc_earth_flux()"
   ]
  },
  {
   "cell_type": "code",
   "execution_count": 7,
   "id": "f4c11d94-2a54-4a11-9566-82f80847599d",
   "metadata": {
    "tags": []
   },
   "outputs": [
    {
     "name": "stdout",
     "output_type": "stream",
     "text": [
      "temperature model        = simple\n",
      "co2 fraction             = 280 x 10⁻⁶\n",
      "nb layers = 8,000\n",
      "0 100 200 300 400 500 600 700 800 900 1000 1100 1200 1300 1400 1500 1600 1700 1800 1900 2000 2100 2200 2300 2400 2500 2600 2700 2800 2900 3000 3100 3200 3300 3400 3500 3600 3700 3800 3900 4000 4100 4200 4300 4400 4500 4600 4700 4800 4900 5000 5100 5200 5300 5400 5500 5600 5700 5800 5900 6000 6100 6200 6300 6400 6500 6600 6700 6800 6900 7000 7100 7200 7300 7400 7500 7600 7700 7800 7900 \n",
      "runtime = 4.79 s\n"
     ]
    }
   ],
   "source": [
    "model = \"simple\"\n",
    "# model = \"uniform\"\n",
    "# model = \"US1976\"\n",
    "\n",
    "\n",
    "co2_fraction = 280e-6\n",
    "# co2_fraction = 280e-6 * 2\n",
    "\n",
    "c.calc_radiative_transfer(\n",
    "    temperature_model=model,\n",
    "    co2_fraction=co2_fraction,\n",
    ")"
   ]
  },
  {
   "cell_type": "code",
   "execution_count": null,
   "id": "61cac0e9-a287-41c3-a1df-c1e1797b77e0",
   "metadata": {},
   "outputs": [],
   "source": []
  }
 ],
 "metadata": {
  "kernelspec": {
   "display_name": "test",
   "language": "python",
   "name": "test"
  },
  "language_info": {
   "codemirror_mode": {
    "name": "ipython",
    "version": 3
   },
   "file_extension": ".py",
   "mimetype": "text/x-python",
   "name": "python",
   "nbconvert_exporter": "python",
   "pygments_lexer": "ipython3",
   "version": "3.10.6"
  }
 },
 "nbformat": 4,
 "nbformat_minor": 5
}
